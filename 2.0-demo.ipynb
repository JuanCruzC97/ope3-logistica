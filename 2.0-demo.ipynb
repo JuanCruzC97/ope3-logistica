{
 "cells": [
  {
   "cell_type": "markdown",
   "metadata": {},
   "source": [
    "# Módulos"
   ]
  },
  {
   "cell_type": "code",
   "execution_count": 1,
   "metadata": {},
   "outputs": [],
   "source": [
    "import pandas as pd\n",
    "import numpy as np\n",
    "from tqdm import tqdm\n",
    "import copy\n",
    "import random\n",
    "import matplotlib.pyplot as plt"
   ]
  },
  {
   "cell_type": "code",
   "execution_count": 2,
   "metadata": {},
   "outputs": [],
   "source": [
    "from logistica.componentes.camion import Camion\n",
    "from logistica.componentes.pedido import Pedido\n",
    "from logistica.componentes.ruteo import Ruteo\n",
    "from logistica.utils import preparar_df_pedidos"
   ]
  },
  {
   "cell_type": "markdown",
   "metadata": {},
   "source": [
    "# Datos"
   ]
  },
  {
   "cell_type": "code",
   "execution_count": 3,
   "metadata": {},
   "outputs": [
    {
     "data": {
      "text/html": [
       "<div>\n",
       "<style scoped>\n",
       "    .dataframe tbody tr th:only-of-type {\n",
       "        vertical-align: middle;\n",
       "    }\n",
       "\n",
       "    .dataframe tbody tr th {\n",
       "        vertical-align: top;\n",
       "    }\n",
       "\n",
       "    .dataframe thead th {\n",
       "        text-align: right;\n",
       "    }\n",
       "</style>\n",
       "<table border=\"1\" class=\"dataframe\">\n",
       "  <thead>\n",
       "    <tr style=\"text-align: right;\">\n",
       "      <th></th>\n",
       "      <th>cliente</th>\n",
       "      <th>pedidos1</th>\n",
       "      <th>pedidos2</th>\n",
       "      <th>pedidos3</th>\n",
       "      <th>pedidos4</th>\n",
       "      <th>pedidos5</th>\n",
       "      <th>pedidos6</th>\n",
       "      <th>coord_x</th>\n",
       "      <th>coord_y</th>\n",
       "    </tr>\n",
       "  </thead>\n",
       "  <tbody>\n",
       "    <tr>\n",
       "      <th>0</th>\n",
       "      <td>A</td>\n",
       "      <td>4</td>\n",
       "      <td>3</td>\n",
       "      <td>5</td>\n",
       "      <td>2</td>\n",
       "      <td>6</td>\n",
       "      <td>6</td>\n",
       "      <td>0.257571</td>\n",
       "      <td>1.803726</td>\n",
       "    </tr>\n",
       "    <tr>\n",
       "      <th>1</th>\n",
       "      <td>B</td>\n",
       "      <td>6</td>\n",
       "      <td>6</td>\n",
       "      <td>5</td>\n",
       "      <td>4</td>\n",
       "      <td>1</td>\n",
       "      <td>3</td>\n",
       "      <td>1.523313</td>\n",
       "      <td>2.102301</td>\n",
       "    </tr>\n",
       "    <tr>\n",
       "      <th>2</th>\n",
       "      <td>C</td>\n",
       "      <td>1</td>\n",
       "      <td>6</td>\n",
       "      <td>6</td>\n",
       "      <td>2</td>\n",
       "      <td>6</td>\n",
       "      <td>7</td>\n",
       "      <td>0.710910</td>\n",
       "      <td>2.629800</td>\n",
       "    </tr>\n",
       "    <tr>\n",
       "      <th>3</th>\n",
       "      <td>D</td>\n",
       "      <td>8</td>\n",
       "      <td>6</td>\n",
       "      <td>5</td>\n",
       "      <td>2</td>\n",
       "      <td>8</td>\n",
       "      <td>2</td>\n",
       "      <td>1.013940</td>\n",
       "      <td>2.149740</td>\n",
       "    </tr>\n",
       "    <tr>\n",
       "      <th>4</th>\n",
       "      <td>E</td>\n",
       "      <td>4</td>\n",
       "      <td>1</td>\n",
       "      <td>2</td>\n",
       "      <td>4</td>\n",
       "      <td>2</td>\n",
       "      <td>3</td>\n",
       "      <td>0.609480</td>\n",
       "      <td>0.666810</td>\n",
       "    </tr>\n",
       "    <tr>\n",
       "      <th>5</th>\n",
       "      <td>F</td>\n",
       "      <td>3</td>\n",
       "      <td>1</td>\n",
       "      <td>6</td>\n",
       "      <td>8</td>\n",
       "      <td>6</td>\n",
       "      <td>5</td>\n",
       "      <td>0.998640</td>\n",
       "      <td>1.451790</td>\n",
       "    </tr>\n",
       "    <tr>\n",
       "      <th>6</th>\n",
       "      <td>G</td>\n",
       "      <td>3</td>\n",
       "      <td>2</td>\n",
       "      <td>3</td>\n",
       "      <td>7</td>\n",
       "      <td>4</td>\n",
       "      <td>3</td>\n",
       "      <td>1.434510</td>\n",
       "      <td>0.018180</td>\n",
       "    </tr>\n",
       "    <tr>\n",
       "      <th>7</th>\n",
       "      <td>H</td>\n",
       "      <td>5</td>\n",
       "      <td>8</td>\n",
       "      <td>5</td>\n",
       "      <td>2</td>\n",
       "      <td>4</td>\n",
       "      <td>8</td>\n",
       "      <td>2.171880</td>\n",
       "      <td>0.764910</td>\n",
       "    </tr>\n",
       "    <tr>\n",
       "      <th>8</th>\n",
       "      <td>I</td>\n",
       "      <td>5</td>\n",
       "      <td>2</td>\n",
       "      <td>3</td>\n",
       "      <td>4</td>\n",
       "      <td>2</td>\n",
       "      <td>6</td>\n",
       "      <td>1.412280</td>\n",
       "      <td>0.863190</td>\n",
       "    </tr>\n",
       "    <tr>\n",
       "      <th>9</th>\n",
       "      <td>J</td>\n",
       "      <td>1</td>\n",
       "      <td>8</td>\n",
       "      <td>6</td>\n",
       "      <td>8</td>\n",
       "      <td>1</td>\n",
       "      <td>2</td>\n",
       "      <td>2.386260</td>\n",
       "      <td>1.387260</td>\n",
       "    </tr>\n",
       "    <tr>\n",
       "      <th>10</th>\n",
       "      <td>K</td>\n",
       "      <td>1</td>\n",
       "      <td>7</td>\n",
       "      <td>6</td>\n",
       "      <td>8</td>\n",
       "      <td>3</td>\n",
       "      <td>4</td>\n",
       "      <td>2.858490</td>\n",
       "      <td>0.523080</td>\n",
       "    </tr>\n",
       "    <tr>\n",
       "      <th>11</th>\n",
       "      <td>L</td>\n",
       "      <td>6</td>\n",
       "      <td>4</td>\n",
       "      <td>3</td>\n",
       "      <td>5</td>\n",
       "      <td>2</td>\n",
       "      <td>6</td>\n",
       "      <td>2.241360</td>\n",
       "      <td>2.309940</td>\n",
       "    </tr>\n",
       "    <tr>\n",
       "      <th>12</th>\n",
       "      <td>M</td>\n",
       "      <td>0</td>\n",
       "      <td>0</td>\n",
       "      <td>0</td>\n",
       "      <td>0</td>\n",
       "      <td>8</td>\n",
       "      <td>1</td>\n",
       "      <td>1.702530</td>\n",
       "      <td>1.432620</td>\n",
       "    </tr>\n",
       "    <tr>\n",
       "      <th>13</th>\n",
       "      <td>N</td>\n",
       "      <td>0</td>\n",
       "      <td>0</td>\n",
       "      <td>0</td>\n",
       "      <td>0</td>\n",
       "      <td>5</td>\n",
       "      <td>1</td>\n",
       "      <td>1.948140</td>\n",
       "      <td>0.318510</td>\n",
       "    </tr>\n",
       "    <tr>\n",
       "      <th>14</th>\n",
       "      <td>O</td>\n",
       "      <td>0</td>\n",
       "      <td>0</td>\n",
       "      <td>0</td>\n",
       "      <td>0</td>\n",
       "      <td>8</td>\n",
       "      <td>4</td>\n",
       "      <td>0.831420</td>\n",
       "      <td>0.131490</td>\n",
       "    </tr>\n",
       "  </tbody>\n",
       "</table>\n",
       "</div>"
      ],
      "text/plain": [
       "   cliente  pedidos1  pedidos2  pedidos3  pedidos4  pedidos5  pedidos6  \\\n",
       "0        A         4         3         5         2         6         6   \n",
       "1        B         6         6         5         4         1         3   \n",
       "2        C         1         6         6         2         6         7   \n",
       "3        D         8         6         5         2         8         2   \n",
       "4        E         4         1         2         4         2         3   \n",
       "5        F         3         1         6         8         6         5   \n",
       "6        G         3         2         3         7         4         3   \n",
       "7        H         5         8         5         2         4         8   \n",
       "8        I         5         2         3         4         2         6   \n",
       "9        J         1         8         6         8         1         2   \n",
       "10       K         1         7         6         8         3         4   \n",
       "11       L         6         4         3         5         2         6   \n",
       "12       M         0         0         0         0         8         1   \n",
       "13       N         0         0         0         0         5         1   \n",
       "14       O         0         0         0         0         8         4   \n",
       "\n",
       "     coord_x   coord_y  \n",
       "0   0.257571  1.803726  \n",
       "1   1.523313  2.102301  \n",
       "2   0.710910  2.629800  \n",
       "3   1.013940  2.149740  \n",
       "4   0.609480  0.666810  \n",
       "5   0.998640  1.451790  \n",
       "6   1.434510  0.018180  \n",
       "7   2.171880  0.764910  \n",
       "8   1.412280  0.863190  \n",
       "9   2.386260  1.387260  \n",
       "10  2.858490  0.523080  \n",
       "11  2.241360  2.309940  \n",
       "12  1.702530  1.432620  \n",
       "13  1.948140  0.318510  \n",
       "14  0.831420  0.131490  "
      ]
     },
     "execution_count": 3,
     "metadata": {},
     "output_type": "execute_result"
    }
   ],
   "source": [
    "df_clientes = pd.read_excel(\"data/inputs/data_inputs.xlsx\", sheet_name=\"clientes\")\n",
    "df_pedidos = pd.read_excel(\"data/inputs/data_inputs.xlsx\", sheet_name=\"pedidos\")\n",
    "df_pedidos = pd.merge(left=df_pedidos, right=df_clientes, on=\"cliente\", how=\"inner\")\n",
    "df_pedidos"
   ]
  },
  {
   "cell_type": "code",
   "execution_count": 4,
   "metadata": {},
   "outputs": [
    {
     "data": {
      "text/html": [
       "<div>\n",
       "<style scoped>\n",
       "    .dataframe tbody tr th:only-of-type {\n",
       "        vertical-align: middle;\n",
       "    }\n",
       "\n",
       "    .dataframe tbody tr th {\n",
       "        vertical-align: top;\n",
       "    }\n",
       "\n",
       "    .dataframe thead th {\n",
       "        text-align: right;\n",
       "    }\n",
       "</style>\n",
       "<table border=\"1\" class=\"dataframe\">\n",
       "  <thead>\n",
       "    <tr style=\"text-align: right;\">\n",
       "      <th></th>\n",
       "      <th>camion</th>\n",
       "      <th>carga_max</th>\n",
       "      <th>pedidos_max</th>\n",
       "      <th>dist_max</th>\n",
       "    </tr>\n",
       "  </thead>\n",
       "  <tbody>\n",
       "    <tr>\n",
       "      <th>0</th>\n",
       "      <td>1</td>\n",
       "      <td>12</td>\n",
       "      <td>3</td>\n",
       "      <td>2</td>\n",
       "    </tr>\n",
       "    <tr>\n",
       "      <th>1</th>\n",
       "      <td>2</td>\n",
       "      <td>12</td>\n",
       "      <td>3</td>\n",
       "      <td>2</td>\n",
       "    </tr>\n",
       "    <tr>\n",
       "      <th>2</th>\n",
       "      <td>3</td>\n",
       "      <td>12</td>\n",
       "      <td>3</td>\n",
       "      <td>2</td>\n",
       "    </tr>\n",
       "    <tr>\n",
       "      <th>3</th>\n",
       "      <td>4</td>\n",
       "      <td>12</td>\n",
       "      <td>3</td>\n",
       "      <td>2</td>\n",
       "    </tr>\n",
       "    <tr>\n",
       "      <th>4</th>\n",
       "      <td>5</td>\n",
       "      <td>12</td>\n",
       "      <td>3</td>\n",
       "      <td>2</td>\n",
       "    </tr>\n",
       "    <tr>\n",
       "      <th>5</th>\n",
       "      <td>6</td>\n",
       "      <td>12</td>\n",
       "      <td>3</td>\n",
       "      <td>2</td>\n",
       "    </tr>\n",
       "  </tbody>\n",
       "</table>\n",
       "</div>"
      ],
      "text/plain": [
       "   camion  carga_max  pedidos_max  dist_max\n",
       "0       1         12            3         2\n",
       "1       2         12            3         2\n",
       "2       3         12            3         2\n",
       "3       4         12            3         2\n",
       "4       5         12            3         2\n",
       "5       6         12            3         2"
      ]
     },
     "execution_count": 4,
     "metadata": {},
     "output_type": "execute_result"
    }
   ],
   "source": [
    "df_camiones = pd.read_excel(\"data/inputs/data_inputs.xlsx\", sheet_name=\"camiones\")\n",
    "df_camiones"
   ]
  },
  {
   "cell_type": "markdown",
   "metadata": {},
   "source": [
    "# Ruteo"
   ]
  },
  {
   "cell_type": "code",
   "execution_count": 23,
   "metadata": {},
   "outputs": [
    {
     "data": {
      "text/html": [
       "<div>\n",
       "<style scoped>\n",
       "    .dataframe tbody tr th:only-of-type {\n",
       "        vertical-align: middle;\n",
       "    }\n",
       "\n",
       "    .dataframe tbody tr th {\n",
       "        vertical-align: top;\n",
       "    }\n",
       "\n",
       "    .dataframe thead th {\n",
       "        text-align: right;\n",
       "    }\n",
       "</style>\n",
       "<table border=\"1\" class=\"dataframe\">\n",
       "  <thead>\n",
       "    <tr style=\"text-align: right;\">\n",
       "      <th></th>\n",
       "      <th>cliente</th>\n",
       "      <th>pedidos</th>\n",
       "      <th>coord_x</th>\n",
       "      <th>coord_y</th>\n",
       "    </tr>\n",
       "  </thead>\n",
       "  <tbody>\n",
       "    <tr>\n",
       "      <th>0</th>\n",
       "      <td>A</td>\n",
       "      <td>5</td>\n",
       "      <td>0.257571</td>\n",
       "      <td>1.803726</td>\n",
       "    </tr>\n",
       "    <tr>\n",
       "      <th>1</th>\n",
       "      <td>B</td>\n",
       "      <td>5</td>\n",
       "      <td>1.523313</td>\n",
       "      <td>2.102301</td>\n",
       "    </tr>\n",
       "    <tr>\n",
       "      <th>2</th>\n",
       "      <td>C</td>\n",
       "      <td>6</td>\n",
       "      <td>0.710910</td>\n",
       "      <td>2.629800</td>\n",
       "    </tr>\n",
       "    <tr>\n",
       "      <th>3</th>\n",
       "      <td>D</td>\n",
       "      <td>5</td>\n",
       "      <td>1.013940</td>\n",
       "      <td>2.149740</td>\n",
       "    </tr>\n",
       "    <tr>\n",
       "      <th>4</th>\n",
       "      <td>E</td>\n",
       "      <td>2</td>\n",
       "      <td>0.609480</td>\n",
       "      <td>0.666810</td>\n",
       "    </tr>\n",
       "    <tr>\n",
       "      <th>5</th>\n",
       "      <td>F</td>\n",
       "      <td>6</td>\n",
       "      <td>0.998640</td>\n",
       "      <td>1.451790</td>\n",
       "    </tr>\n",
       "    <tr>\n",
       "      <th>6</th>\n",
       "      <td>G</td>\n",
       "      <td>3</td>\n",
       "      <td>1.434510</td>\n",
       "      <td>0.018180</td>\n",
       "    </tr>\n",
       "    <tr>\n",
       "      <th>7</th>\n",
       "      <td>H</td>\n",
       "      <td>5</td>\n",
       "      <td>2.171880</td>\n",
       "      <td>0.764910</td>\n",
       "    </tr>\n",
       "    <tr>\n",
       "      <th>8</th>\n",
       "      <td>I</td>\n",
       "      <td>3</td>\n",
       "      <td>1.412280</td>\n",
       "      <td>0.863190</td>\n",
       "    </tr>\n",
       "    <tr>\n",
       "      <th>9</th>\n",
       "      <td>J</td>\n",
       "      <td>6</td>\n",
       "      <td>2.386260</td>\n",
       "      <td>1.387260</td>\n",
       "    </tr>\n",
       "    <tr>\n",
       "      <th>10</th>\n",
       "      <td>K</td>\n",
       "      <td>6</td>\n",
       "      <td>2.858490</td>\n",
       "      <td>0.523080</td>\n",
       "    </tr>\n",
       "    <tr>\n",
       "      <th>11</th>\n",
       "      <td>L</td>\n",
       "      <td>3</td>\n",
       "      <td>2.241360</td>\n",
       "      <td>2.309940</td>\n",
       "    </tr>\n",
       "    <tr>\n",
       "      <th>12</th>\n",
       "      <td>M</td>\n",
       "      <td>0</td>\n",
       "      <td>1.702530</td>\n",
       "      <td>1.432620</td>\n",
       "    </tr>\n",
       "    <tr>\n",
       "      <th>13</th>\n",
       "      <td>N</td>\n",
       "      <td>0</td>\n",
       "      <td>1.948140</td>\n",
       "      <td>0.318510</td>\n",
       "    </tr>\n",
       "    <tr>\n",
       "      <th>14</th>\n",
       "      <td>O</td>\n",
       "      <td>0</td>\n",
       "      <td>0.831420</td>\n",
       "      <td>0.131490</td>\n",
       "    </tr>\n",
       "  </tbody>\n",
       "</table>\n",
       "</div>"
      ],
      "text/plain": [
       "   cliente  pedidos   coord_x   coord_y\n",
       "0        A        5  0.257571  1.803726\n",
       "1        B        5  1.523313  2.102301\n",
       "2        C        6  0.710910  2.629800\n",
       "3        D        5  1.013940  2.149740\n",
       "4        E        2  0.609480  0.666810\n",
       "5        F        6  0.998640  1.451790\n",
       "6        G        3  1.434510  0.018180\n",
       "7        H        5  2.171880  0.764910\n",
       "8        I        3  1.412280  0.863190\n",
       "9        J        6  2.386260  1.387260\n",
       "10       K        6  2.858490  0.523080\n",
       "11       L        3  2.241360  2.309940\n",
       "12       M        0  1.702530  1.432620\n",
       "13       N        0  1.948140  0.318510\n",
       "14       O        0  0.831420  0.131490"
      ]
     },
     "execution_count": 23,
     "metadata": {},
     "output_type": "execute_result"
    }
   ],
   "source": [
    "# Preparamos los datos de pedidos.\n",
    "df_pedido = preparar_df_pedidos(df_pedidos, \"pedidos3\")\n",
    "df_pedido"
   ]
  },
  {
   "cell_type": "code",
   "execution_count": 16,
   "metadata": {},
   "outputs": [],
   "source": [
    "ruteo = Ruteo(df_camiones, df_pedido, costo_oportunidad=3000, presupuesto=1200, random_state=42)"
   ]
  },
  {
   "cell_type": "code",
   "execution_count": 19,
   "metadata": {},
   "outputs": [],
   "source": [
    "camiones = [1, 2, 2, 3, 3, 3, 4, 4, 4, 5, 6, 6]\n",
    "pedidos = [\"F\", \"E\", \"G\", \"B\", \"I\", \"J\", \"H\", \"K\", \"L\", \"C\", \"A\", \"D\"]\n",
    "\n",
    "\n",
    "for ix_c, ix_p in zip(camiones, pedidos):\n",
    "    ruteo.get_camion(ix_c).add_pedido_checked(ruteo.get_pedido(ix_p))\n",
    "    \n",
    "ruteo.get_camiones()\n",
    "ruteo.get_results()"
   ]
  },
  {
   "cell_type": "code",
   "execution_count": 24,
   "metadata": {},
   "outputs": [],
   "source": [
    "ruteo = Ruteo(df_camiones, df_pedido, costo_oportunidad=3000, presupuesto=1200, random_state=42)"
   ]
  },
  {
   "cell_type": "code",
   "execution_count": 25,
   "metadata": {},
   "outputs": [],
   "source": [
    "ruteo.get_solucion_inicial(mode=\"random\")"
   ]
  },
  {
   "cell_type": "code",
   "execution_count": 26,
   "metadata": {},
   "outputs": [
    {
     "data": {
      "text/plain": [
       "[Camión 1\n",
       " Carga Total 5 tn\n",
       " Pedidos ['H']\n",
       " Costo Total 7000\n",
       " Costo por tn 1400.0,\n",
       " Camión 2\n",
       " Carga Total 7 tn\n",
       " Pedidos ['E', 'A']\n",
       " Costo Total 8400\n",
       " Costo por tn 1200.0,\n",
       " Camión 3\n",
       " Carga Total 12 tn\n",
       " Pedidos ['F', 'C']\n",
       " Costo Total 12000\n",
       " Costo por tn 1000.0,\n",
       " Camión 4\n",
       " Carga Total 9 tn\n",
       " Pedidos ['G', 'K']\n",
       " Costo Total 10800\n",
       " Costo por tn 1200.0,\n",
       " Camión 5\n",
       " Carga Total 10 tn\n",
       " Pedidos ['B', 'D']\n",
       " Costo Total 10000\n",
       " Costo por tn 1000.0,\n",
       " Camión 6\n",
       " Carga Total 12 tn\n",
       " Pedidos ['I', 'J', 'L']\n",
       " Costo Total 12000\n",
       " Costo por tn 1000.0]"
      ]
     },
     "execution_count": 26,
     "metadata": {},
     "output_type": "execute_result"
    }
   ],
   "source": [
    "ruteo.get_camiones()"
   ]
  },
  {
   "cell_type": "code",
   "execution_count": 27,
   "metadata": {},
   "outputs": [
    {
     "data": {
      "text/plain": [
       "[Pedido A\n",
       " Carga 5 tn\n",
       " Asignado True\n",
       " Asignado a Camion 2,\n",
       " Pedido B\n",
       " Carga 5 tn\n",
       " Asignado True\n",
       " Asignado a Camion 5,\n",
       " Pedido C\n",
       " Carga 6 tn\n",
       " Asignado True\n",
       " Asignado a Camion 3,\n",
       " Pedido D\n",
       " Carga 5 tn\n",
       " Asignado True\n",
       " Asignado a Camion 5,\n",
       " Pedido E\n",
       " Carga 2 tn\n",
       " Asignado True\n",
       " Asignado a Camion 2,\n",
       " Pedido F\n",
       " Carga 6 tn\n",
       " Asignado True\n",
       " Asignado a Camion 3,\n",
       " Pedido G\n",
       " Carga 3 tn\n",
       " Asignado True\n",
       " Asignado a Camion 4,\n",
       " Pedido H\n",
       " Carga 5 tn\n",
       " Asignado True\n",
       " Asignado a Camion 1,\n",
       " Pedido I\n",
       " Carga 3 tn\n",
       " Asignado True\n",
       " Asignado a Camion 6,\n",
       " Pedido J\n",
       " Carga 6 tn\n",
       " Asignado True\n",
       " Asignado a Camion 6,\n",
       " Pedido K\n",
       " Carga 6 tn\n",
       " Asignado True\n",
       " Asignado a Camion 4,\n",
       " Pedido L\n",
       " Carga 3 tn\n",
       " Asignado True\n",
       " Asignado a Camion 6]"
      ]
     },
     "execution_count": 27,
     "metadata": {},
     "output_type": "execute_result"
    }
   ],
   "source": [
    "ruteo.get_pedidos()"
   ]
  },
  {
   "cell_type": "code",
   "execution_count": 28,
   "metadata": {},
   "outputs": [
    {
     "name": "stdout",
     "output_type": "stream",
     "text": [
      "--Resultados--\n",
      "Carga Total 55 tn\n",
      "Costo Camiones 60200 $\n",
      "Costo Oportunidad 0 $\n",
      "Costo Total 60200 $\n",
      "Costo Total por tn 1094.55 $\n",
      "Ahorro -8.790000000000001%\n"
     ]
    }
   ],
   "source": [
    "ruteo.get_results()"
   ]
  },
  {
   "cell_type": "code",
   "execution_count": 22,
   "metadata": {},
   "outputs": [],
   "source": [
    "import time\n",
    "import math\n",
    "from tqdm import tqdm"
   ]
  },
  {
   "cell_type": "code",
   "execution_count": 53,
   "metadata": {},
   "outputs": [
    {
     "name": "stderr",
     "output_type": "stream",
     "text": [
      "100%|██████████| 10/10 [00:00<00:00, 36.74it/s]\n"
     ]
    }
   ],
   "source": [
    "random.seed(43)\n",
    "best_sol, history = sa(ruteo, t_inicial=10, t_final=1, k=1, iters=10, prob=1)\n",
    "#best_sol, history = ls_by_time(ruteo, n_vecinos=500, max_time=30, prob=0.5)"
   ]
  },
  {
   "cell_type": "code",
   "execution_count": 54,
   "metadata": {},
   "outputs": [
    {
     "name": "stdout",
     "output_type": "stream",
     "text": [
      "--Resultados--\n",
      "Carga Total 55 tn\n",
      "Costo Camiones 59000 $\n",
      "Costo Oportunidad 0 $\n",
      "Costo Total 59000 $\n",
      "Costo Total por tn 1072.73 $\n",
      "Ahorro -10.61%\n"
     ]
    }
   ],
   "source": [
    "best_sol.get_results()"
   ]
  },
  {
   "cell_type": "code",
   "execution_count": 55,
   "metadata": {},
   "outputs": [
    {
     "data": {
      "text/plain": [
       "[<matplotlib.lines.Line2D at 0x7f6867f08850>]"
      ]
     },
     "execution_count": 55,
     "metadata": {},
     "output_type": "execute_result"
    },
    {
     "data": {
      "image/png": "[encoded data removed]",
      "text/plain": [
       "<Figure size 432x288 with 1 Axes>"
      ]
     },
     "metadata": {
      "needs_background": "light"
     },
     "output_type": "display_data"
    }
   ],
   "source": [
    "plt.plot(history[\"history_actual\"])"
   ]
  },
  {
   "cell_type": "code",
   "execution_count": 56,
   "metadata": {},
   "outputs": [
    {
     "data": {
      "text/plain": [
       "[<matplotlib.lines.Line2D at 0x7f6867edcc10>]"
      ]
     },
     "execution_count": 56,
     "metadata": {},
     "output_type": "execute_result"
    },
    {
     "data": {
      "image/png": "[encoded data removed]",
      "text/plain": [
       "<Figure size 432x288 with 1 Axes>"
      ]
     },
     "metadata": {
      "needs_background": "light"
     },
     "output_type": "display_data"
    }
   ],
   "source": [
    "plt.plot(history[\"history_best\"])"
   ]
  },
  {
   "cell_type": "code",
   "execution_count": 43,
   "metadata": {},
   "outputs": [],
   "source": [
    "def sa(ruteo_inicial, t_inicial, t_final, k, iters, prob=1):\n",
    "    start = time.time()\n",
    "    \n",
    "    best_solution = copy.deepcopy(ruteo_inicial)\n",
    "    actual_solution = copy.deepcopy(ruteo_inicial)\n",
    "    \n",
    "    solution_history = {}\n",
    "    solution_history[\"history_actual\"] = []\n",
    "    solution_history[\"history_best\"] = [best_solution.costo_total_tn]\n",
    "    \n",
    "    temps = sorted([t for t in range(t_final, t_inicial+k, k)], reverse=True)\n",
    "    #print(temps)\n",
    "    \n",
    "    for t in tqdm(temps):     \n",
    "        for i in range(iters):\n",
    "            new_solution = copy.deepcopy(actual_solution)\n",
    "            new_solution.get_vecino(prob=prob)\n",
    "            new_solution._set_results()\n",
    "            \n",
    "            if new_solution.costo_total_tn > actual_solution.costo_total_tn:\n",
    "                delta = actual_solution.costo_total_tn - new_solution.costo_total_tn \n",
    "                #print(delta)\n",
    "                #print(math.exp(delta/t))\n",
    "                if math.exp(delta/t) > random.uniform(0,1):\n",
    "                    actual_solution = copy.deepcopy(new_solution)\n",
    "                    solution_history[\"history_actual\"].append(actual_solution.costo_total_tn)\n",
    "                \n",
    "            else:\n",
    "                actual_solution = copy.deepcopy(new_solution)\n",
    "                solution_history[\"history_actual\"].append(actual_solution.costo_total_tn)\n",
    "                \n",
    "            if actual_solution.costo_total_tn < best_solution.costo_total_tn:\n",
    "                best_solution = copy.deepcopy(actual_solution)\n",
    "                solution_history[\"history_best\"].append(best_solution.costo_total_tn)\n",
    "            \n",
    "    \n",
    "    end = time.time()\n",
    "    solution_history[\"time\"] = end-start\n",
    "    \n",
    "    return (best_solution, solution_history)\n",
    "    "
   ]
  },
  {
   "cell_type": "code",
   "execution_count": 41,
   "metadata": {},
   "outputs": [],
   "source": [
    "def ls(ruteo, n_vecinos, max_time=None, n_iter=None, func_value=None, prob=1):\n",
    "    pass\n",
    "\n",
    "def ls_by_time(ruteo_inicial, n_vecinos, max_time, prob=1):\n",
    "  \n",
    "    start = time.time()\n",
    "    now = time.time()\n",
    "    \n",
    "    best_solution = copy.deepcopy(ruteo_inicial)\n",
    "    solution_history = []\n",
    "    \n",
    "    while (now-start) < max_time:\n",
    "        \n",
    "        vecinos = [copy.deepcopy(best_solution)] * n_vecinos\n",
    "        \n",
    "        for vecino in vecinos:\n",
    "            vecino.get_vecino(prob=prob)\n",
    "            vecino._set_results()\n",
    "\n",
    "            if vecino.costo_total_tn < best_solution.costo_total_tn:\n",
    "                best_solution = copy.deepcopy(vecino)\n",
    "                solution_history.append(best_solution.costo_total_tn)\n",
    "        \n",
    "        now = time.time()\n",
    "        \n",
    "    return (best_solution, solution_history)\n",
    "    \n",
    "    \n",
    "    \n",
    "    \n",
    "def ls_by_iter(ruteo, n_vecinos, n_iter):\n",
    "    start = time.time()\n",
    "    \n",
    "    best_solution = copy.deepcopy(ruteo_inicial)\n",
    "    solution_history = []\n",
    "    \n",
    "    while (now-start) < max_time:\n",
    "        \n",
    "        vecinos = [copy.deepcopy(best_solution)] * n_vecinos\n",
    "        \n",
    "        for vecino in vecinos:\n",
    "            vecino.get_vecino(prob=prob)\n",
    "            vecino._set_results()\n",
    "\n",
    "            if vecino.costo_total_tn < best_solution.costo_total_tn:\n",
    "                best_solution = vecino\n",
    "                solution_history.append(best_solution.costo_total_tn)\n",
    "        \n",
    "        now = time.time()\n",
    "        \n",
    "        end = time.time()\n",
    "        \n",
    "    return (best_solution, solution_history)\n",
    "    "
   ]
  },
  {
   "cell_type": "code",
   "execution_count": null,
   "metadata": {},
   "outputs": [],
   "source": []
  },
  {
   "cell_type": "code",
   "execution_count": 16,
   "metadata": {},
   "outputs": [],
   "source": [
    "ruteo.get_vecino(prob=1)"
   ]
  },
  {
   "cell_type": "code",
   "execution_count": 17,
   "metadata": {},
   "outputs": [
    {
     "name": "stdout",
     "output_type": "stream",
     "text": [
      "--Resultados--\n",
      "Carga Total 47 tn\n",
      "Costo Camiones 56400 $\n",
      "Costo Oportunidad 0 $\n",
      "Costo Total 56400 $\n",
      "Costo Total por tn 1200.0 $\n",
      "Ahorro 0.0%\n"
     ]
    }
   ],
   "source": [
    "ruteo.get_results()"
   ]
  },
  {
   "cell_type": "code",
   "execution_count": 18,
   "metadata": {},
   "outputs": [
    {
     "data": {
      "text/plain": [
       "[Camión 1\n",
       " Carga Total 11 tn\n",
       " Pedidos ['A', 'B', 'C']\n",
       " Costo Total 11000\n",
       " Costo por tn 1000.0,\n",
       " Camión 2\n",
       " Carga Total 12 tn\n",
       " Pedidos ['D', 'E']\n",
       " Costo Total 12000\n",
       " Costo por tn 1000.0,\n",
       " Camión 3\n",
       " Carga Total 11 tn\n",
       " Pedidos ['F', 'G', 'H']\n",
       " Costo Total 11000\n",
       " Costo por tn 1000.0,\n",
       " Camión 4\n",
       " Carga Total 6 tn\n",
       " Pedidos ['I', 'J']\n",
       " Costo Total 8400\n",
       " Costo por tn 1400.0,\n",
       " Camión 5\n",
       " Carga Total 6 tn\n",
       " Pedidos ['L']\n",
       " Costo Total 8400\n",
       " Costo por tn 1400.0,\n",
       " Camión 6\n",
       " Carga Total 1 tn\n",
       " Pedidos ['K']\n",
       " Costo Total 5600\n",
       " Costo por tn 5600.0]"
      ]
     },
     "execution_count": 18,
     "metadata": {},
     "output_type": "execute_result"
    }
   ],
   "source": [
    "ruteo.get_camiones()"
   ]
  }
 ],
 "metadata": {
  "kernelspec": {
   "display_name": "Python 3.8.5 ('base')",
   "language": "python",
   "name": "python3"
  },
  "language_info": {
   "codemirror_mode": {
    "name": "ipython",
    "version": 3
   },
   "file_extension": ".py",
   "mimetype": "text/x-python",
   "name": "python",
   "nbconvert_exporter": "python",
   "pygments_lexer": "ipython3",
   "version": "3.8.5"
  },
  "orig_nbformat": 4,
  "vscode": {
   "interpreter": {
    "hash": "70e1497991c8da6a3b5dfb08a5f1c781fe3cedc28f4548461be1a96558f5870a"
   }
  }
 },
 "nbformat": 4,
 "nbformat_minor": 2
}
